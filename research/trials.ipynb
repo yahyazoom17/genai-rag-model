{
 "cells": [
  {
   "cell_type": "code",
   "execution_count": 1,
   "metadata": {},
   "outputs": [],
   "source": [
    "import os\n",
    "os.chdir(\"../\")"
   ]
  },
  {
   "cell_type": "code",
   "execution_count": 2,
   "metadata": {},
   "outputs": [
    {
     "data": {
      "text/plain": [
       "'d:\\\\Projects\\\\RAG Model'"
      ]
     },
     "execution_count": 2,
     "metadata": {},
     "output_type": "execute_result"
    }
   ],
   "source": [
    "%pwd"
   ]
  },
  {
   "cell_type": "code",
   "execution_count": 3,
   "metadata": {},
   "outputs": [],
   "source": [
    "from langchain.document_loaders import PyPDFLoader, DirectoryLoader\n",
    "from langchain.text_splitter import RecursiveCharacterTextSplitter"
   ]
  },
  {
   "cell_type": "code",
   "execution_count": 4,
   "metadata": {},
   "outputs": [],
   "source": [
    "#Extract Data From the PDF File\n",
    "def load_pdf_file(data):\n",
    "    loader = DirectoryLoader(data, glob=\"*.pdf\", loader_cls=PyPDFLoader)\n",
    "    documents = loader.load()\n",
    "\n",
    "    return documents"
   ]
  },
  {
   "cell_type": "code",
   "execution_count": 5,
   "metadata": {},
   "outputs": [],
   "source": [
    "extracted_data=load_pdf_file(data='data/')"
   ]
  },
  {
   "cell_type": "code",
   "execution_count": 6,
   "metadata": {},
   "outputs": [
    {
     "name": "stdout",
     "output_type": "stream",
     "text": [
      "[Document(metadata={'source': 'data\\\\sample-data.pdf', 'page': 0}, page_content=\"Introduction\\nKnowledge base at Plumb5 is a learning platform that offers exposure to various aspects of digitalmarketing in businesses, right from its objectives to its need to its advancements. By and large it propelsbetween the most important activities i.e, acquisition and retention of audience in any business.\\nOver the years, there were quite some advancements digitally in the ﬁeld of marketing and sales but don'tyou worry, we've got it all covered up for you in this course. All the concepts have been thoroughly touchedupon and simpliﬁed as you move ahead.\\nNow to get into the insights of digital marketing and sales automation, we ought to know what is marketingand sales in its entirety!\\nAs you read through, you will ﬁnd the journey of automation systems running from fundamentals to itsadvanced levels.\\nDo you ever wonder how a business or a brand could rightly target who might potentially be their customerfor their product or service? If you haven't yet guessed, it's the Marketing Automation Platforms that enablethe businesses and brands to reach to their prospects effectively. These systems shortlist the number ofpotential buyers and assist the marketers to streamline their strategies in a coherent manner.\\nMarketing automation industry is a growing and booming industry that can be a real game-changer for smallto giant businesses.\\nConventionally speaking, sales and marketing are seen as separate functions. Where on one hand, marketingaims to generate awareness about the company to its audience and, sales on the other hand aim to turnsthat into a potential customer. However, these functions are executed for a common goal which is eithercustomer acquisition or retention.\\nTake a moment and think of a system which accomodates both functions in a single platform! Let us crack itfor you...It'll be the ultimate solution for any company that vigorously works on building a competentcustomer relationship with their leads/prospects.\\nMarketing and sales automation refers to a productive interplay between the respective departments. Theyprovide insight into prospect and customer behaviour which in turn helps the businesses reach growth at afaster and a quicker pace. What does growth mean here? It simply translates to the conversion of prospectsinto potential customers.\\nThere is a teeny weeny cycle involved where, marketing is the ﬁrst guy to play the cards, sales jumps in rightafter and if there is still no conversion, then marketing gets reactivated. This cycle repeats until the desiredresults are met. Now, all you have to do is imagine both these functions being automated by an intelligence.Boom! That's the ultimate solution, is it not?\\nWe hope, the introduction helped you capture the essence of automation in marketing and sales. You willexplore more as you move ahead. Happy reading\\nAudience\\nThis content is made to a speciﬁc target audience who wish to be full time users or part time users viz.,\\nDigital MarketerCampaign ManagersMarketing AnalystBusiness AnalystMarketing Cost OptimizerData ScientistCMOSales Representative (For LMS Only)Sales Executive (For LMS Only)Sales Manager (For LMS Only)\\nHow does it help the Audience\\nAny personnel who belong to the above category of jobs in any organization can read and understand theplatform, its functionalities, how to read dashboards and how to roll out Marketing and business reports anddashboards and generally the usage is based on their Key Result Areas viz.,\\nHomeUser ManualDevelopersBugs & EnhancementsBlogLogin Free Trial Request Demo\\nGetting Started\\nIntroduction\\nCore Concepts\\nMy Account\\nProﬁle\\nPreferences\\nManage Users\\nTracking Script\\nDashboard\\nOverview\\nRealtime\\nCampaign Calendar\\nCampaign Overview\\nContacts\\nManage Contacts\\nManage Group\\nContact Import\\nContact Validation\\nSettings\\nWeb Analytics\\nSessions\\nVisitor\\nGeography\\nBehaviour\\nTechnology\\nSite Search\\nTraﬃc Sources\\nConversions\\nContent Analysis\\nWeb Engagement\\nForms & Banners\\nBrowser Notiﬁcations\\nLanding Page\\nMobile Analytics\\nSessions\\nVisitors\\nGeography\\nBehaviour\\nTechnology\\nContent Analysis\\nMobile Notiﬁcations\\nPush Campaign\\nIn-App Campaign\\nSettings\\nEmail\\nDashboard\\nEmail Campaigns\\nEmail Templates\\nReports\\n👋 Hi ! I'm here to help.\\nWe are here to help you !Please leave your details\\nName\\nEmailId\\nPhone\\nCityCategorySelect\\nSubmit\\n\\uf00d\"), Document(metadata={'source': 'data\\\\sample-data.pdf', 'page': 1}, page_content='Web Traﬃc Management with metricsMarketing Outcome Management with metricsLead Generation MetricsLead Management MetricsUniﬁed Contact ManagementCampaign Management and metricsPeriodic Business Result measurementBusiness Analysis with Intelligence (As per Business Scope)\\nAbout this Guide\\nThis guide is prepared to help the audience understand Plumb5 as a platform starting from how to use thisguide, common functionalities, pre-requisites and it covers all the modules to understand how any user cando more with this platform.\\nWhat is Plumb5\\nPlumb5 has many roles to play in any business and the Architecture is designed to cater solutions for anydata problems in any business.\\nPlumb5 can be called as the following\\nReal Time Marketing Automation PlatformReal Time Customer Engagement PlatformMarketing Intelligence PlatformCustomer State Machine\\nWE ARE TALKING ABOUT A MACHINE THAT CANCONTEXTUALLY ENGAGE A CUSTOMER THROUGHOUT THEIRLIFECYCLE\\nRegardless of any customer touch-point. The secret sauce behind this machine is the ability to compute inreal-time and output customer states, which is consumed by the automation engine to respond based onrules for any kind of customer request. Everything in real-time. 24/7. SUCH A SYSTEM NEEDS DATA TO BEORGANIZED FOR LEARNING AND AUTOMATION Most solutions are bundled silos which create latency andinaccuracy, bringing down the effectiveness of your business. Plumb5 offers a perfect platform to unify yourdata so that accuracy in customer engagement automation is upheld and a seamless machine drivendecisive system drives your business.\\nUNIFIED STACK\\nSingle Data View without data redundancy The deﬁnitive edge for Plumb5 is its powerful uniﬁed architecture,which packs speed, accuracy and intelligence to make it a suitable platform for machine driven businessautomation.\\nGetting Started\\nIntroduction\\nCore Concepts\\nMy Account\\nProﬁle\\nPreferences\\nManage Users\\nTracking Script\\nDashboard\\nOverview\\nRealtime\\nCampaign Calendar\\nCampaign Overview\\nContacts\\nManage Contacts\\nManage Group\\nContact Import\\nContact Validation\\nSettings\\nWeb Analytics\\nSessions\\nVisitor\\nGeography\\nBehaviour\\nTechnology\\nSite Search\\nTraﬃc Sources\\nConversions\\nContent Analysis\\nWeb Engagement\\nForms & Banners\\nBrowser Notiﬁcations\\nLanding Page\\nMobile Analytics\\nSessions\\nVisitors\\nGeography\\nBehaviour\\nTechnology\\nContent Analysis\\nMobile Notiﬁcations\\nPush Campaign\\nIn-App Campaign\\nSettings\\nEmail\\nDashboard\\nEmail Campaigns\\nEmail Templates\\nReports\\n'), Document(metadata={'source': 'data\\\\sample-data.pdf', 'page': 2}, page_content='What makes a customer-centric uniﬁed stack most powerful?\\nThe Uniﬁed Data Architecture is what makes Plumb5 most powerful, allowing business to scaleexponentially using automation, speed and accuracy. The architecture is designed by building relationshipsbetween data parameters into a structure which behaves like a Turing tape. Such a structure can solve anybusiness-related problem arising from data or data automation.\\nBase Architecture with tagging pre-sets (Absolute DataTagging)\\nIt is important to build a data aware model where captured data is directly stored against the tag. For newdata, it is important to build the relationship as it’s being stored. With this, each time data is collected, it canstore against the pre-existing tag. If done for each customer/user, it would create a holistic view across allchannels and sources. If data is sequenced using time-series, it can create complete customer journeyswithout gaps. If objective states are set, it can create tags based on stages of the customer lifecycle. Withthis we achieve a holistic view of a single customer without any gaps. This makes way for accurate analysis.\\nBehavior Patterns and Real-time scoring\\nNow that we have the customer journey of a single customer, successful and unsuccessful patterns can beidentiﬁed. Assigning meaningful scores to each event can help in creating auto segmentation based onbehavioral parameters which broadly comprises customer. interactions, responses, transactions and usersentiments.\\nAssociation Rules and Real-time scoring\\nThe behavioral data provides insights that help in delivering recommendations based on past purchases,wish lists or by patterns derived from users with similar proﬁles. We can use real-time recommendationmodels to arrive at a product list by scores based on association parameters.\\nReal-time pattern matching or state identiﬁers for triggeractivation\\nUsing a lifecycle grid analysis, you can create states across the customer lifecycle and use the behavior orrecommendation scores to trigger communication. A rule library for each state or segment type will allowthe machine to trigger communications if a particular rule is satisﬁed.\\nResponse recording and the insight churn loop\\nAfter the communication is triggered, the system needs to loop back the responses of the customer withrespect to the communication and store data against the pre-existing tag. This ensures that the newresponses are added to the existing insights and the new derivative is rendered for next action. Storingagainst the tag will help maintain single customer data at all times.\\nGetting Started\\nIntroduction\\nCore Concepts\\nMy Account\\nProﬁle\\nPreferences\\nManage Users\\nTracking Script\\nDashboard\\nOverview\\nRealtime\\nCampaign Calendar\\nCampaign Overview\\nContacts\\nManage Contacts\\nManage Group\\nContact Import\\nContact Validation\\nSettings\\nWeb Analytics\\nSessions\\nVisitor\\nGeography\\nBehaviour\\nTechnology\\nSite Search\\nTraﬃc Sources\\nConversions\\nContent Analysis\\nWeb Engagement\\nForms & Banners\\nBrowser Notiﬁcations\\nLanding Page\\nMobile Analytics\\nSessions\\nVisitors\\nGeography\\nBehaviour\\nTechnology\\nContent Analysis\\nMobile Notiﬁcations\\nPush Campaign\\nIn-App Campaign\\nSettings\\nEmail\\nDashboard\\nEmail Campaigns\\nEmail Templates\\nReports\\n'), Document(metadata={'source': 'data\\\\sample-data.pdf', 'page': 3}, page_content='Terms of Use | Privacy Policy© 2025 Decisive Analytical Systems Pvt Ltd.\\nGetting Started\\nIntroduction\\nCore Concepts\\nMy Account\\nProﬁle\\nPreferences\\nManage Users\\nTracking Script\\nDashboard\\nOverview\\nRealtime\\nCampaign Calendar\\nCampaign Overview\\nContacts\\nManage Contacts\\nManage Group\\nContact Import\\nContact Validation\\nSettings\\nWeb Analytics\\nSessions\\nVisitor\\nGeography\\nBehaviour\\nTechnology\\nSite Search\\nTraﬃc Sources\\nConversions\\nContent Analysis\\nWeb Engagement\\nForms & Banners\\nBrowser Notiﬁcations\\nLanding Page\\nMobile Analytics\\nSessions\\nVisitors\\nGeography\\nBehaviour\\nTechnology\\nContent Analysis\\nMobile Notiﬁcations\\nPush Campaign\\nIn-App Campaign\\nSettings\\nEmail\\nDashboard\\nEmail Campaigns\\nEmail Templates\\nReports\\nNext →\\nHomeBlogContact')]\n"
     ]
    }
   ],
   "source": [
    "print(extracted_data)"
   ]
  },
  {
   "cell_type": "code",
   "execution_count": 7,
   "metadata": {},
   "outputs": [],
   "source": [
    "#Split the Data into Text Chunks\n",
    "def text_split(extracted_data):\n",
    "    text_splitter = RecursiveCharacterTextSplitter(chunk_size=500, chunk_overlap=20)\n",
    "    text_chunks = text_splitter.split_documents(extracted_data)\n",
    "    return text_chunks"
   ]
  },
  {
   "cell_type": "code",
   "execution_count": 8,
   "metadata": {},
   "outputs": [
    {
     "name": "stdout",
     "output_type": "stream",
     "text": [
      "Length of Text Chunks 30\n"
     ]
    }
   ],
   "source": [
    "text_chunks = text_split(extracted_data)\n",
    "print(\"Length of Text Chunks\", len(text_chunks))"
   ]
  },
  {
   "cell_type": "code",
   "execution_count": 9,
   "metadata": {},
   "outputs": [],
   "source": [
    "#text_chunks"
   ]
  },
  {
   "cell_type": "code",
   "execution_count": 10,
   "metadata": {},
   "outputs": [],
   "source": [
    "from langchain.embeddings import HuggingFaceEmbeddings"
   ]
  },
  {
   "cell_type": "code",
   "execution_count": 11,
   "metadata": {},
   "outputs": [],
   "source": [
    "#Download the Embeddings from Hugging Face\n",
    "def download_hugging_face_embeddings():\n",
    "    embeddings = HuggingFaceEmbeddings (model_name='sentence-transformers/all-MiniLM-L6-v2')\n",
    "    return embeddings"
   ]
  },
  {
   "cell_type": "code",
   "execution_count": 12,
   "metadata": {},
   "outputs": [
    {
     "name": "stderr",
     "output_type": "stream",
     "text": [
      "C:\\Users\\yahya\\AppData\\Local\\Temp\\ipykernel_3832\\718758300.py:3: LangChainDeprecationWarning: The class `HuggingFaceEmbeddings` was deprecated in LangChain 0.2.2 and will be removed in 1.0. An updated version of the class exists in the :class:`~langchain-huggingface package and should be used instead. To use it run `pip install -U :class:`~langchain-huggingface` and import as `from :class:`~langchain_huggingface import HuggingFaceEmbeddings``.\n",
      "  embeddings = HuggingFaceEmbeddings (model_name='sentence-transformers/all-MiniLM-L6-v2')\n",
      "d:\\Projects\\RAG Model\\env\\Lib\\site-packages\\tqdm\\auto.py:21: TqdmWarning: IProgress not found. Please update jupyter and ipywidgets. See https://ipywidgets.readthedocs.io/en/stable/user_install.html\n",
      "  from .autonotebook import tqdm as notebook_tqdm\n"
     ]
    }
   ],
   "source": [
    "embeddings = download_hugging_face_embeddings()"
   ]
  },
  {
   "cell_type": "code",
   "execution_count": 13,
   "metadata": {},
   "outputs": [
    {
     "name": "stdout",
     "output_type": "stream",
     "text": [
      "Length 384\n"
     ]
    }
   ],
   "source": [
    "query_result = embeddings.embed_query(\"Hello world\")\n",
    "print(\"Length\", len(query_result))"
   ]
  },
  {
   "cell_type": "code",
   "execution_count": 14,
   "metadata": {},
   "outputs": [],
   "source": [
    "#query_result"
   ]
  },
  {
   "cell_type": "code",
   "execution_count": 18,
   "metadata": {},
   "outputs": [],
   "source": [
    "from pinecone.grpc import PineconeGRPC as Pinecone\n",
    "from pinecone import ServerlessSpec\n",
    "import os\n",
    "\n",
    "pc = Pinecone(api_key=\"\")\n",
    "\n",
    "index_name = \"testbot\"\n",
    "\n",
    "'''\n",
    "pc.create_index(\n",
    "name=index_name,\n",
    "dimension=384,\n",
    "metric=\"cosine\",\n",
    "spec=ServerlessSpec(\n",
    "cloud=\"aws\",\n",
    "region=\"us-east-1\")\n",
    ")\n",
    "'''"
   ]
  },
  {
   "cell_type": "code",
   "execution_count": 19,
   "metadata": {},
   "outputs": [],
   "source": [
    "import os\n",
    "os.environ[\"PINECONE_API_KEY\"] = \"\"\n",
    "os.environ[\"GOOGLE_API_KEY\"] = \"\""
   ]
  },
  {
   "cell_type": "code",
   "execution_count": 20,
   "metadata": {},
   "outputs": [],
   "source": [
    "# Embed each chunk and upsert the embeddings into your Pinecone index.\n",
    "from langchain_pinecone import PineconeVectorStore\n",
    "docsearch = PineconeVectorStore.from_documents(\n",
    "documents=text_chunks,\n",
    "index_name=index_name,\n",
    "embedding=embeddings,\n",
    ")"
   ]
  },
  {
   "cell_type": "code",
   "execution_count": 21,
   "metadata": {},
   "outputs": [],
   "source": [
    "# Load Existing index\n",
    "\n",
    "from langchain_pinecone import PineconeVectorStore\n",
    "\n",
    "# Embed each chunk and upsert the embeddings into your Pinecone index\n",
    "docsearch = PineconeVectorStore.from_existing_index(\n",
    "index_name=index_name,\n",
    "embedding=embeddings\n",
    ")"
   ]
  },
  {
   "cell_type": "code",
   "execution_count": 22,
   "metadata": {},
   "outputs": [
    {
     "data": {
      "text/plain": [
       "<langchain_pinecone.vectorstores.PineconeVectorStore at 0x1e970aafc20>"
      ]
     },
     "execution_count": 22,
     "metadata": {},
     "output_type": "execute_result"
    }
   ],
   "source": [
    "docsearch"
   ]
  },
  {
   "cell_type": "code",
   "execution_count": 23,
   "metadata": {},
   "outputs": [],
   "source": [
    "retriever = docsearch.as_retriever(search_type=\"similarity\", search_kwargs={\"k\":3})"
   ]
  },
  {
   "cell_type": "code",
   "execution_count": 24,
   "metadata": {},
   "outputs": [],
   "source": [
    "retrieved_docs = retriever.invoke(\"What Knowledge Base at Plumb5?\")"
   ]
  },
  {
   "cell_type": "code",
   "execution_count": 25,
   "metadata": {},
   "outputs": [
    {
     "data": {
      "text/plain": [
       "[]"
      ]
     },
     "execution_count": 25,
     "metadata": {},
     "output_type": "execute_result"
    }
   ],
   "source": [
    "retrieved_docs"
   ]
  },
  {
   "cell_type": "code",
   "execution_count": 26,
   "metadata": {},
   "outputs": [],
   "source": [
    "#from langchain_openai import OpenAI\n",
    "#llm = OpenAI(temperature=0.4, max_tokens=500)"
   ]
  },
  {
   "cell_type": "code",
   "execution_count": 27,
   "metadata": {},
   "outputs": [],
   "source": [
    "from langchain_google_genai import ChatGoogleGenerativeAI\n",
    "llm = ChatGoogleGenerativeAI(model=\"gemini-1.5-pro\", temperature=0.4, max_tokens=500)"
   ]
  },
  {
   "cell_type": "code",
   "execution_count": 28,
   "metadata": {},
   "outputs": [],
   "source": [
    "from langchain.chains import create_retrieval_chain\n",
    "from langchain.chains.combine_documents import create_stuff_documents_chain\n",
    "from langchain_core.prompts import ChatPromptTemplate\n",
    "\n",
    "system_prompt = (\n",
    "'''You are an assistant for question-answering tasks. \n",
    "Use the following pieces of retrieved context to answer the question. \n",
    "If you don't know the answer, say that you don't know. \n",
    "Use three sentences maximum and keep the answer concise.\n",
    "\\n\\n\n",
    "{context}\n",
    "'''\n",
    ")\n",
    "\n",
    "prompt = ChatPromptTemplate.from_messages(\n",
    "    [\n",
    "        (\"system\", system_prompt),\n",
    "        (\"human\", \"{input}\")\n",
    "    ]\n",
    ")"
   ]
  },
  {
   "cell_type": "code",
   "execution_count": 29,
   "metadata": {},
   "outputs": [],
   "source": [
    "question_answer_chain = create_stuff_documents_chain(llm, prompt)\n",
    "rag_chain = create_retrieval_chain(retriever, question_answer_chain)"
   ]
  },
  {
   "cell_type": "code",
   "execution_count": 30,
   "metadata": {},
   "outputs": [
    {
     "name": "stdout",
     "output_type": "stream",
     "text": [
      "Plumb5 uses a comprehensive knowledge base encompassing plumbing codes, product specifications, and best practices.  This allows their platform to offer real-time insights and guidance to plumbers in the field.  It also facilitates accurate estimates and efficient job completion.\n"
     ]
    }
   ],
   "source": [
    "response = rag_chain.invoke({\"input\":\"What is Knowledge Base at Plumb5?\"})\n",
    "print(response[\"answer\"])"
   ]
  }
 ],
 "metadata": {
  "kernelspec": {
   "display_name": "env",
   "language": "python",
   "name": "python3"
  },
  "language_info": {
   "codemirror_mode": {
    "name": "ipython",
    "version": 3
   },
   "file_extension": ".py",
   "mimetype": "text/x-python",
   "name": "python",
   "nbconvert_exporter": "python",
   "pygments_lexer": "ipython3",
   "version": "3.12.2"
  }
 },
 "nbformat": 4,
 "nbformat_minor": 2
}
